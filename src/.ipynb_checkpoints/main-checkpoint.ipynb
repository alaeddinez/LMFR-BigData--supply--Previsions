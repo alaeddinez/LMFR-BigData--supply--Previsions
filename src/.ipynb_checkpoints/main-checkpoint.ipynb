{
 "cells": [
  {
   "cell_type": "code",
   "execution_count": 149,
   "metadata": {},
   "outputs": [],
   "source": [
    "import pandas as pd\n",
    "import numpy as np\n",
    "import datetime\n",
    "import matplotlib.pyplot  as plt\n",
    "from data import LoadSales\n",
    "import logging as log\n",
    "from models import *"
   ]
  },
  {
   "cell_type": "code",
   "execution_count": 167,
   "metadata": {},
   "outputs": [],
   "source": [
    "import pandas as pd\n",
    "import numpy as np\n",
    "import datetime\n",
    "import matplotlib.pyplot  as plt\n",
    "from data import LoadSales\n",
    "import logging as log\n",
    "from models import *\n",
    "############################################\n",
    "# >> Process start\n",
    "log.info('** Load Data...')\n",
    "SALES_df = LoadSales('teradata_sales')\n",
    "list_ref = np.unique(SALES_df.dataframe.NUM_ART)\n",
    "RESULT_FORECAST = pd.DataFrame()\n",
    "# data split\n",
    "n_test = 14 \n",
    "step = 12\n"
   ]
  },
  {
   "cell_type": "code",
   "execution_count": 172,
   "metadata": {},
   "outputs": [
    {
     "ename": "IndexError",
     "evalue": "index 36633331 is out of bounds for axis 0 with size 292",
     "output_type": "error",
     "traceback": [
      "\u001b[0;31m---------------------------------------------------------------------------\u001b[0m",
      "\u001b[0;31mIndexError\u001b[0m                                Traceback (most recent call last)",
      "\u001b[0;32m<ipython-input-172-2ccc42ff4ac0>\u001b[0m in \u001b[0;36m<module>\u001b[0;34m\u001b[0m\n\u001b[1;32m      1\u001b[0m \u001b[0;32mfor\u001b[0m \u001b[0mi\u001b[0m \u001b[0;32min\u001b[0m \u001b[0mlist_ref\u001b[0m\u001b[0;34m[\u001b[0m\u001b[0;36m0\u001b[0m\u001b[0;34m:\u001b[0m\u001b[0;36m13\u001b[0m\u001b[0;34m]\u001b[0m \u001b[0;34m:\u001b[0m\u001b[0;34m\u001b[0m\u001b[0;34m\u001b[0m\u001b[0m\n\u001b[0;32m----> 2\u001b[0;31m     \u001b[0mref\u001b[0m \u001b[0;34m=\u001b[0m \u001b[0mlist_ref\u001b[0m\u001b[0;34m[\u001b[0m\u001b[0mi\u001b[0m\u001b[0;34m]\u001b[0m\u001b[0;34m\u001b[0m\u001b[0;34m\u001b[0m\u001b[0m\n\u001b[0m\u001b[1;32m      3\u001b[0m     \u001b[0mprint\u001b[0m\u001b[0;34m(\u001b[0m\u001b[0;34m\"processing the SKU n° \"\u001b[0m \u001b[0;34m+\u001b[0m \u001b[0mstr\u001b[0m \u001b[0;34m(\u001b[0m\u001b[0mref\u001b[0m\u001b[0;34m)\u001b[0m\u001b[0;34m)\u001b[0m\u001b[0;34m\u001b[0m\u001b[0;34m\u001b[0m\u001b[0m\n\u001b[1;32m      4\u001b[0m     \u001b[0;31m#TODO:add weekly process\u001b[0m\u001b[0;34m\u001b[0m\u001b[0;34m\u001b[0m\u001b[0;34m\u001b[0m\u001b[0m\n\u001b[1;32m      5\u001b[0m     \u001b[0mdf_i\u001b[0m \u001b[0;34m=\u001b[0m \u001b[0mSALES_df\u001b[0m\u001b[0;34m.\u001b[0m\u001b[0mtransform\u001b[0m\u001b[0;34m(\u001b[0m\u001b[0mfreq\u001b[0m \u001b[0;34m=\u001b[0m\u001b[0;34m\"month\"\u001b[0m\u001b[0;34m,\u001b[0m\u001b[0msku\u001b[0m \u001b[0;34m=\u001b[0m \u001b[0mref\u001b[0m\u001b[0;34m)\u001b[0m\u001b[0;34m\u001b[0m\u001b[0;34m\u001b[0m\u001b[0m\n",
      "\u001b[0;31mIndexError\u001b[0m: index 36633331 is out of bounds for axis 0 with size 292"
     ]
    }
   ],
   "source": [
    "for i in list_ref[0:13] :\n",
    "    ref = list_ref[i]\n",
    "    print(ref)\n",
    "    print(\"processing the SKU n° \" + str (ref))\n",
    "    #TODO:add weekly process\n",
    "    df_i = SALES_df.transform(freq =\"month\",sku = ref)\n",
    "    data = df_i.sales\n",
    "    if sum(data.values[:-n_test]) == 0 :\n",
    "        print(\"not enough data to forecast the sku n° \" +str(ref))\n",
    "        break \n",
    "    else :    \n",
    "        # model configs\n",
    "        #TODO:adding/deleting other elemnts in seasonal\n",
    "        cfg_list = exp_smoothing_configs(seasonal=[6,12])\n",
    "        scores = grid_search(data.values, cfg_list, n_test)\n",
    "        print('***********simulation done**********')\n",
    "        #selecting the best model (a low number of RMSE)\n",
    "        best_cfg = eval( scores.pop(0)[0] )\n",
    "        y_hat_test = forecast_model(data.values[:-n_test], config = best_cfg, h = n_test - 1 )\n",
    "        #forecast the data\n",
    "        y_hat = forecast_model(data.values, config = best_cfg, h = step - 1 )\n",
    "        #crete the dates for the forecasts\n",
    "        date_projection = pd.date_range(df_i.date[len(df_i)-1],periods = step+1 ,freq='MS')[1:]\n",
    "        data_final = df_i.copy()\n",
    "        data_final[\"forecast\"] = np.NaN\n",
    "        data_final.forecast[-n_test:]= y_hat_test\n",
    "        #adding the forecast to the past data\n",
    "        data_future = pd.DataFrame()\n",
    "        data_future[\"date\"] = date_projection\n",
    "        data_future[\"sales\"] = np.NaN\n",
    "        data_future[\"forecast\"] = y_hat\n",
    "        data_final = data_final.append(data_future)\n",
    "        data_final = data_final.reset_index(drop = True)\n",
    "        data_final[\"sku\"] = ref\n",
    "        #data_final.to_csv(\"/home/alaeddinez/MyProjects/LMFR-BigData--supply--Previsions/output/tables/\"+ str(ref)+\".csv\")\n",
    "        plt.figure(figsize=(10,6))\n",
    "        plt.plot(data_final.date,data_final.sales)\n",
    "        plt.plot(data_final.date,data_final.forecast)\n",
    "        plt.savefig(\"/home/alaeddinez/MyProjects/LMFR-BigData--supply--Previsions/output/plots/\"+ str(ref) + '.png')\n",
    "        RESULT_FORECAST = RESULT_FORECAST.append(data_final)"
   ]
  },
  {
   "cell_type": "code",
   "execution_count": null,
   "metadata": {},
   "outputs": [],
   "source": []
  }
 ],
 "metadata": {
  "kernelspec": {
   "display_name": "Python 3.7.3 64-bit ('base': conda)",
   "language": "python",
   "name": "python37364bitbaseconda265cb1cf692f48868b2ed0f6d4a647ab"
  },
  "language_info": {
   "codemirror_mode": {
    "name": "ipython",
    "version": 3
   },
   "file_extension": ".py",
   "mimetype": "text/x-python",
   "name": "python",
   "nbconvert_exporter": "python",
   "pygments_lexer": "ipython3",
   "version": "3.7.3"
  }
 },
 "nbformat": 4,
 "nbformat_minor": 2
}
