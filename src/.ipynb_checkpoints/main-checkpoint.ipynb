{
 "cells": [
  {
   "cell_type": "code",
   "execution_count": 1,
   "metadata": {},
   "outputs": [],
   "source": [
    "import pandas as pd\n",
    "import numpy as np\n",
    "import datetime\n",
    "from data import LoadSales"
   ]
  },
  {
   "cell_type": "code",
   "execution_count": 2,
   "metadata": {},
   "outputs": [],
   "source": [
    "data = LoadSales('teradata_sales')"
   ]
  },
  {
   "cell_type": "code",
   "execution_count": 3,
   "metadata": {},
   "outputs": [],
   "source": [
    "weekly_sales = data.agg_weekly_sales()\n",
    "monthly_sales =data.agg_monthly_sales()\n",
    "    "
   ]
  },
  {
   "cell_type": "code",
   "execution_count": 4,
   "metadata": {},
   "outputs": [],
   "source": [
    "def get_methods(object, spacing=20): \n",
    "  methodList = [] \n",
    "  for method_name in dir(object): \n",
    "    try: \n",
    "        if callable(getattr(object, method_name)): \n",
    "            methodList.append(str(method_name)) \n",
    "    except: \n",
    "        methodList.append(str(method_name)) \n",
    "  processFunc = (lambda s: ' '.join(s.split())) or (lambda s: s) \n",
    "  for method in methodList: \n",
    "    try: \n",
    "        print(str(method.ljust(spacing)) + ' ' + \n",
    "              processFunc(str(getattr(object, method).__doc__)[0:90])) \n",
    "    except: \n",
    "        print(method.ljust(spacing) + ' ' + ' getattr() failed') \n"
   ]
  },
  {
   "cell_type": "code",
   "execution_count": 5,
   "metadata": {},
   "outputs": [
    {
     "name": "stdout",
     "output_type": "stream",
     "text": [
      "__class__            \n",
      "__delattr__          Implement delattr(self, name).\n",
      "__dir__              Default dir() implementation.\n",
      "__eq__               Return self==value.\n",
      "__format__           Default object formatter.\n",
      "__ge__               Return self>=value.\n",
      "__getattribute__     Return getattr(self, name).\n",
      "__gt__               Return self>value.\n",
      "__hash__             Return hash(self).\n",
      "__init__             None\n",
      "__init_subclass__    This method is called when a class is subclassed. The default implementation does nothing\n",
      "__le__               Return self<=value.\n",
      "__lt__               Return self<value.\n",
      "__ne__               Return self!=value.\n",
      "__new__              Create and return a new object. See help(type) for accurate signature.\n",
      "__reduce__           Helper for pickle.\n",
      "__reduce_ex__        Helper for pickle.\n",
      "__repr__             Return repr(self).\n",
      "__setattr__          Implement setattr(self, name, value).\n",
      "__sizeof__           Size of object in memory, in bytes.\n",
      "__str__              Return str(self).\n",
      "__subclasshook__     Abstract classes can override this to customize issubclass(). This is invoked early on by\n",
      "agg_monthly_sales    aggregate daily sales to monthly sales per product Parameters ---\n",
      "agg_weekly_sales     aggregate daily sales to weekly sales per product Parameters ----\n",
      "transform            transform the agg data to the suitable format to make forecasts Parameters\n"
     ]
    }
   ],
   "source": [
    "get_methods(data) "
   ]
  },
  {
   "cell_type": "code",
   "execution_count": 6,
   "metadata": {},
   "outputs": [],
   "source": [
    "monthly_sales =data.agg_monthly_sales()"
   ]
  },
  {
   "cell_type": "code",
   "execution_count": 10,
   "metadata": {},
   "outputs": [
    {
     "ename": "TypeError",
     "evalue": "transform() missing 1 required positional argument: 'sku'",
     "output_type": "error",
     "traceback": [
      "\u001b[0;31m---------------------------------------------------------------------------\u001b[0m",
      "\u001b[0;31mTypeError\u001b[0m                                 Traceback (most recent call last)",
      "\u001b[0;32m<ipython-input-10-21e27364e231>\u001b[0m in \u001b[0;36m<module>\u001b[0;34m\u001b[0m\n\u001b[0;32m----> 1\u001b[0;31m \u001b[0mdata\u001b[0m\u001b[0;34m.\u001b[0m\u001b[0mtransform\u001b[0m\u001b[0;34m(\u001b[0m\u001b[0mfreq\u001b[0m\u001b[0;34m=\u001b[0m\u001b[0;34m\"month\"\u001b[0m\u001b[0;34m)\u001b[0m\u001b[0;34m\u001b[0m\u001b[0;34m\u001b[0m\u001b[0m\n\u001b[0m",
      "\u001b[0;31mTypeError\u001b[0m: transform() missing 1 required positional argument: 'sku'"
     ]
    }
   ],
   "source": [
    "data.transform(freq =\"month\")"
   ]
  },
  {
   "cell_type": "code",
   "execution_count": null,
   "metadata": {},
   "outputs": [],
   "source": [
    "data.dataframe"
   ]
  },
  {
   "cell_type": "code",
   "execution_count": null,
   "metadata": {},
   "outputs": [],
   "source": []
  }
 ],
 "metadata": {
  "kernelspec": {
   "display_name": "Python 3.7.3 64-bit ('base': conda)",
   "language": "python",
   "name": "python37364bitbaseconda265cb1cf692f48868b2ed0f6d4a647ab"
  },
  "language_info": {
   "codemirror_mode": {
    "name": "ipython",
    "version": 3
   },
   "file_extension": ".py",
   "mimetype": "text/x-python",
   "name": "python",
   "nbconvert_exporter": "python",
   "pygments_lexer": "ipython3",
   "version": "3.7.3"
  }
 },
 "nbformat": 4,
 "nbformat_minor": 2
}
